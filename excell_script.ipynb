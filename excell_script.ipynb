{
 "cells": [
  {
   "cell_type": "markdown",
   "metadata": {},
   "source": [
    "## Generates the poule sheets for Judo+ tournaments  \n",
    "#### Work by [Gonçalo Sousa](https://github.com/Sousa1909) for [AJDS](https://github.com/AJD-Santarem)  \n",
    "\n",
    "#### Script 2\n",
    "---"
   ]
  },
  {
   "cell_type": "code",
   "execution_count": 24,
   "metadata": {},
   "outputs": [],
   "source": [
    "import yaml\n",
    "import os\n",
    "import pandas as pd\n",
    "from openpyxl import load_workbook\n",
    "\n",
    "# Tournament folder\n",
    "tournament_folder = \"REPLACE_ME\"\n",
    "\n",
    "# Define output folder\n",
    "output_folder = \"Output/\"\n",
    "\n",
    "# File paths for the Excel templates\n",
    "best_of_3 = \"Templates/BO_3.xlsx\"\n",
    "poule_of_5 = \"Templates/Poule_5.xlsx\""
   ]
  },
  {
   "cell_type": "code",
   "execution_count": null,
   "metadata": {},
   "outputs": [],
   "source": [
    "# Load the appropriate template based on group size\n",
    "def load_template(group_size, template_file_5, template_file_2):\n",
    "    if group_size == 2:\n",
    "        return True, load_workbook(template_file_2)\n",
    "    else:\n",
    "        return False, load_workbook(template_file_5)\n",
    "\n",
    "# Populate the table with the group information\n",
    "def populate_group_table(group_data, template_file_5, template_file_2, output_file, group_number, age_tier):\n",
    "    # Determine group size based on the number of athletes in the group\n",
    "    bo3, workbook = load_template(len(group_data), template_file_5, template_file_2)\n",
    "    sheet = workbook.active\n",
    "\n",
    "    # Fill in athlete data based on the loaded template\n",
    "    if bo3:\n",
    "        for i, athlete in enumerate(group_data, start=8):\n",
    "            sheet[f'C{i}'] = athlete['Name']\n",
    "            sheet[f'D{i}'] = athlete['Club']\n",
    "        sheet[f'F{13}'] = group_number\n",
    "        sheet[f'J{4}'] = age_tier\n",
    "    else:\n",
    "        for i, athlete in enumerate(group_data, start=9):\n",
    "            sheet[f'B{i}'] = athlete['Name']\n",
    "            sheet[f'C{i}'] = athlete['Club']\n",
    "        sheet[f'L{17}'] = group_number\n",
    "        sheet[f'M{4}'] = age_tier\n",
    "\n",
    "    # Save the updated file to the designated folder\n",
    "    output_filename = os.path.join(output_folder + tournament_folder, output_file.format(age_tier, group_number))\n",
    "    workbook.save(output_filename)\n",
    "    print(f\"Group {group_number} saved to {output_filename}\")\n",
    "\n",
    "# Function to read groups from the YAML file\n",
    "def read_groups_from_yaml(file_path):\n",
    "    with open(file_path, 'r', encoding='utf-8') as f:\n",
    "        data = yaml.safe_load(f)\n",
    "\n",
    "    # Extract groups by age tier\n",
    "    groups_by_age_tier = []\n",
    "    for age_tier, groups in data.items():\n",
    "        age_tier_groups = []\n",
    "        for group_info in groups:\n",
    "            # Extract group key (e.g., 'Group 1') and its athletes\n",
    "            for group_key, athletes in group_info.items():\n",
    "                age_tier_groups.append(pd.DataFrame(athletes))\n",
    "        groups_by_age_tier.append((age_tier, age_tier_groups))\n",
    "\n",
    "    return groups_by_age_tier\n",
    "\n",
    "# Function to process each group and generate tables from YAML data\n",
    "def create_tables_from_yaml(yaml_file_path, template_file_5, template_file_2, output_file_pattern):\n",
    "    groups_by_age_tier = read_groups_from_yaml(yaml_file_path)\n",
    "    for age_tier, groups in groups_by_age_tier:\n",
    "        group_number = 1\n",
    "        for group in groups:\n",
    "            # Populate and save each group table\n",
    "            populate_group_table(group.to_dict(orient='records'), template_file_5, template_file_2, output_file_pattern, group_number, age_tier)\n",
    "            group_number += 1\n",
    "\n",
    "# Generate tables for both masculine and feminine groups\n",
    "create_tables_from_yaml(f'{output_folder + tournament_folder}/.grouped_athletes_mas.yaml', poule_of_5, best_of_3, 'Group_M_{}_{}.xlsx')\n",
    "create_tables_from_yaml(f'{output_folder + tournament_folder}/.grouped_athletes_fem.yaml', poule_of_5, best_of_3, 'Group_F_{}_{}.xlsx')\n"
   ]
  }
 ],
 "metadata": {
  "kernelspec": {
   "display_name": "Python 3",
   "language": "python",
   "name": "python3"
  },
  "language_info": {
   "codemirror_mode": {
    "name": "ipython",
    "version": 3
   },
   "file_extension": ".py",
   "mimetype": "text/x-python",
   "name": "python",
   "nbconvert_exporter": "python",
   "pygments_lexer": "ipython3",
   "version": "3.10.12"
  }
 },
 "nbformat": 4,
 "nbformat_minor": 2
}
